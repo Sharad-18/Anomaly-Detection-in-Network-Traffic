{
  "metadata": {
    "kernelspec": {
      "language": "python",
      "display_name": "Python 3",
      "name": "python3"
    },
    "language_info": {
      "name": "python",
      "version": "3.10.12",
      "mimetype": "text/x-python",
      "codemirror_mode": {
        "name": "ipython",
        "version": 3
      },
      "pygments_lexer": "ipython3",
      "nbconvert_exporter": "python",
      "file_extension": ".py"
    },
    "kaggle": {
      "accelerator": "none",
      "dataSources": [
        {
          "sourceId": 208170,
          "sourceType": "datasetVersion",
          "datasetId": 90131
        }
      ],
      "dockerImageVersionId": 30628,
      "isInternetEnabled": false,
      "language": "python",
      "sourceType": "notebook",
      "isGpuEnabled": false
    },
    "colab": {
      "name": "Isolation Forest on KDD cup 1999",
      "provenance": [],
      "toc_visible": true
    }
  },
  "nbformat_minor": 0,
  "nbformat": 4,
  "cells": [
    {
      "source": [
        "\n",
        "# IMPORTANT: RUN THIS CELL IN ORDER TO IMPORT YOUR KAGGLE DATA SOURCES\n",
        "# TO THE CORRECT LOCATION (/kaggle/input) IN YOUR NOTEBOOK,\n",
        "# THEN FEEL FREE TO DELETE THIS CELL.\n",
        "# NOTE: THIS NOTEBOOK ENVIRONMENT DIFFERS FROM KAGGLE'S PYTHON\n",
        "# ENVIRONMENT SO THERE MAY BE MISSING LIBRARIES USED BY YOUR\n",
        "# NOTEBOOK.\n",
        "\n",
        "import os\n",
        "import sys\n",
        "from tempfile import NamedTemporaryFile\n",
        "from urllib.request import urlopen\n",
        "from urllib.parse import unquote, urlparse\n",
        "from urllib.error import HTTPError\n",
        "from zipfile import ZipFile\n",
        "import tarfile\n",
        "import shutil\n",
        "\n",
        "CHUNK_SIZE = 40960\n",
        "DATA_SOURCE_MAPPING = 'kdd-cup-1999-data:https%3A%2F%2Fstorage.googleapis.com%2Fkaggle-data-sets%2F90131%2F208170%2Fbundle%2Farchive.zip%3FX-Goog-Algorithm%3DGOOG4-RSA-SHA256%26X-Goog-Credential%3Dgcp-kaggle-com%2540kaggle-161607.iam.gserviceaccount.com%252F20240723%252Fauto%252Fstorage%252Fgoog4_request%26X-Goog-Date%3D20240723T065139Z%26X-Goog-Expires%3D259200%26X-Goog-SignedHeaders%3Dhost%26X-Goog-Signature%3D076e393f3160427b3a454c3b18c97e8518fb35fe42c9df0cd4be12ff2265b3bd3f8f4ab482ecbcca1452cdde3769a9ce48d186d8e210aaa54d7976b71ef3390c43b104eb964ca8895e31a31e864b389e466d568060d05db1af9e09bdb86e905024ebdc381f198ab071d47310416be87735b4f6a1af935f0cc9bf2a1e53adf5c637dca724299b7c0b9e1938e3684e7b140ceacfde33e034e6b153918304d75a6577afdba4cc7a0705f7ae5094c33fee9be33953d4ca764270d34d3ff62d8bb98b72e932c23808146b8630d6a1a886bce5bb65de366ad13dc3e1a7f01cb75d9a433e7b079a6e0618afc8caae6bfd6d1284712fc1cb64bcfc5299f5adedfe8ea097'\n",
        "\n",
        "KAGGLE_INPUT_PATH='/kaggle/input'\n",
        "KAGGLE_WORKING_PATH='/kaggle/working'\n",
        "KAGGLE_SYMLINK='kaggle'\n",
        "\n",
        "!umount /kaggle/input/ 2> /dev/null\n",
        "shutil.rmtree('/kaggle/input', ignore_errors=True)\n",
        "os.makedirs(KAGGLE_INPUT_PATH, 0o777, exist_ok=True)\n",
        "os.makedirs(KAGGLE_WORKING_PATH, 0o777, exist_ok=True)\n",
        "\n",
        "try:\n",
        "  os.symlink(KAGGLE_INPUT_PATH, os.path.join(\"..\", 'input'), target_is_directory=True)\n",
        "except FileExistsError:\n",
        "  pass\n",
        "try:\n",
        "  os.symlink(KAGGLE_WORKING_PATH, os.path.join(\"..\", 'working'), target_is_directory=True)\n",
        "except FileExistsError:\n",
        "  pass\n",
        "\n",
        "for data_source_mapping in DATA_SOURCE_MAPPING.split(','):\n",
        "    directory, download_url_encoded = data_source_mapping.split(':')\n",
        "    download_url = unquote(download_url_encoded)\n",
        "    filename = urlparse(download_url).path\n",
        "    destination_path = os.path.join(KAGGLE_INPUT_PATH, directory)\n",
        "    try:\n",
        "        with urlopen(download_url) as fileres, NamedTemporaryFile() as tfile:\n",
        "            total_length = fileres.headers['content-length']\n",
        "            print(f'Downloading {directory}, {total_length} bytes compressed')\n",
        "            dl = 0\n",
        "            data = fileres.read(CHUNK_SIZE)\n",
        "            while len(data) > 0:\n",
        "                dl += len(data)\n",
        "                tfile.write(data)\n",
        "                done = int(50 * dl / int(total_length))\n",
        "                sys.stdout.write(f\"\\r[{'=' * done}{' ' * (50-done)}] {dl} bytes downloaded\")\n",
        "                sys.stdout.flush()\n",
        "                data = fileres.read(CHUNK_SIZE)\n",
        "            if filename.endswith('.zip'):\n",
        "              with ZipFile(tfile) as zfile:\n",
        "                zfile.extractall(destination_path)\n",
        "            else:\n",
        "              with tarfile.open(tfile.name) as tarfile:\n",
        "                tarfile.extractall(destination_path)\n",
        "            print(f'\\nDownloaded and uncompressed: {directory}')\n",
        "    except HTTPError as e:\n",
        "        print(f'Failed to load (likely expired) {download_url} to path {destination_path}')\n",
        "        continue\n",
        "    except OSError as e:\n",
        "        print(f'Failed to load {download_url} to path {destination_path}')\n",
        "        continue\n",
        "\n",
        "print('Data source import complete.')\n"
      ],
      "metadata": {
        "id": "9cGsERo-qAyP"
      },
      "cell_type": "code",
      "outputs": [],
      "execution_count": null
    },
    {
      "cell_type": "code",
      "source": [
        "# This Python 3 environment comes with many helpful analytics libraries installed\n",
        "# It is defined by the kaggle/python Docker image: https://github.com/kaggle/docker-python\n",
        "# For example, here's several helpful packages to load\n",
        "\n",
        "import numpy as np # linear algebra\n",
        "import pandas as pd # data processing, CSV file I/O (e.g. pd.read_csv)\n",
        "from sklearn.model_selection import train_test_split # model split\n",
        "\n",
        "# Input data files are available in the read-only \"../input/\" directory\n",
        "# For example, running this (by clicking run or pressing Shift+Enter) will list all files under the input directory\n",
        "\n",
        "import os\n",
        "for dirname, _, filenames in os.walk('/kaggle/input'):\n",
        "    for filename in filenames:\n",
        "        print(os.path.join(dirname, filename))\n",
        "\n",
        "# You can write up to 20GB to the current directory (/kaggle/working/) that gets preserved as output when you create a version using \"Save & Run All\"\n",
        "# You can also write temporary files to /kaggle/temp/, but they won't be saved outside of the current session"
      ],
      "metadata": {
        "_uuid": "8f2839f25d086af736a60e9eeb907d3b93b6e0e5",
        "_cell_guid": "b1076dfc-b9ad-4769-8c92-a6c4dae69d19",
        "execution": {
          "iopub.status.busy": "2024-01-04T05:26:10.865104Z",
          "iopub.execute_input": "2024-01-04T05:26:10.865574Z",
          "iopub.status.idle": "2024-01-04T05:26:10.891726Z",
          "shell.execute_reply.started": "2024-01-04T05:26:10.86554Z",
          "shell.execute_reply": "2024-01-04T05:26:10.890449Z"
        },
        "trusted": true,
        "id": "JxXEhXC4qAyQ"
      },
      "execution_count": null,
      "outputs": []
    },
    {
      "cell_type": "code",
      "source": [
        "# add the column labels\n",
        "columns = (['duration'\n",
        ",'protocol_type'\n",
        ",'service'\n",
        ",'flag'\n",
        ",'src_bytes'\n",
        ",'dst_bytes'\n",
        ",'land'\n",
        ",'wrong_fragment'\n",
        ",'urgent'\n",
        ",'hot'\n",
        ",'num_failed_logins'\n",
        ",'logged_in'\n",
        ",'num_compromised'\n",
        ",'root_shell'\n",
        ",'su_attempted'\n",
        ",'num_root'\n",
        ",'num_file_creations'\n",
        ",'num_shells'\n",
        ",'num_access_files'\n",
        ",'num_outbound_cmds'\n",
        ",'is_host_login'\n",
        ",'is_guest_login'\n",
        ",'count'\n",
        ",'srv_count'\n",
        ",'serror_rate'\n",
        ",'srv_serror_rate'\n",
        ",'rerror_rate'\n",
        ",'srv_rerror_rate'\n",
        ",'same_srv_rate'\n",
        ",'diff_srv_rate'\n",
        ",'srv_diff_host_rate'\n",
        ",'dst_host_count'\n",
        ",'dst_host_srv_count'\n",
        ",'dst_host_same_srv_rate'\n",
        ",'dst_host_diff_srv_rate'\n",
        ",'dst_host_same_src_port_rate'\n",
        ",'dst_host_srv_diff_host_rate'\n",
        ",'dst_host_serror_rate'\n",
        ",'dst_host_srv_serror_rate'\n",
        ",'dst_host_rerror_rate'\n",
        ",'dst_host_srv_rerror_rate'\n",
        ",'Label'])"
      ],
      "metadata": {
        "execution": {
          "iopub.status.busy": "2024-01-04T05:26:10.894367Z",
          "iopub.execute_input": "2024-01-04T05:26:10.895666Z",
          "iopub.status.idle": "2024-01-04T05:26:10.905207Z",
          "shell.execute_reply.started": "2024-01-04T05:26:10.895614Z",
          "shell.execute_reply": "2024-01-04T05:26:10.903989Z"
        },
        "trusted": true,
        "id": "43hlV56DqAyQ"
      },
      "execution_count": null,
      "outputs": []
    },
    {
      "cell_type": "code",
      "source": [
        "df = pd.read_csv('/kaggle/input/kdd-cup-1999-data/kddcup.data/kddcup.data',header=None,names=columns)"
      ],
      "metadata": {
        "execution": {
          "iopub.status.busy": "2024-01-04T05:26:10.906518Z",
          "iopub.execute_input": "2024-01-04T05:26:10.907429Z",
          "iopub.status.idle": "2024-01-04T05:26:36.918005Z",
          "shell.execute_reply.started": "2024-01-04T05:26:10.907387Z",
          "shell.execute_reply": "2024-01-04T05:26:36.916553Z"
        },
        "trusted": true,
        "id": "HWYR2nI4qAyR"
      },
      "execution_count": null,
      "outputs": []
    },
    {
      "cell_type": "code",
      "source": [
        "df.head()"
      ],
      "metadata": {
        "execution": {
          "iopub.status.busy": "2024-01-04T05:26:36.921546Z",
          "iopub.execute_input": "2024-01-04T05:26:36.92285Z",
          "iopub.status.idle": "2024-01-04T05:26:36.955281Z",
          "shell.execute_reply.started": "2024-01-04T05:26:36.922788Z",
          "shell.execute_reply": "2024-01-04T05:26:36.953867Z"
        },
        "trusted": true,
        "id": "nmlHz4BJqAyR"
      },
      "execution_count": null,
      "outputs": []
    },
    {
      "cell_type": "code",
      "source": [
        "# drop columns with less than 3 unique values\n",
        "# df.drop(['land', 'logged_in', 'root_shell','num_outbound_cmds', 'is_host_login', 'is_guest_login', 'level'], axis=1, inplace=True)\n",
        "df.drop(['num_outbound_cmds'], axis=1, inplace=True)\n"
      ],
      "metadata": {
        "execution": {
          "iopub.status.busy": "2024-01-04T05:26:36.957808Z",
          "iopub.execute_input": "2024-01-04T05:26:36.958234Z",
          "iopub.status.idle": "2024-01-04T05:26:37.626212Z",
          "shell.execute_reply.started": "2024-01-04T05:26:36.958203Z",
          "shell.execute_reply": "2024-01-04T05:26:37.624825Z"
        },
        "trusted": true,
        "id": "OkatJKxuqAyR"
      },
      "execution_count": null,
      "outputs": []
    },
    {
      "cell_type": "code",
      "source": [
        "# compare the percentage of each label\n",
        "# (df['Label'].value_counts() / df.shape[0]) * 100\n",
        "(df['Label'].value_counts())"
      ],
      "metadata": {
        "execution": {
          "iopub.status.busy": "2024-01-04T05:26:37.628358Z",
          "iopub.execute_input": "2024-01-04T05:26:37.628903Z",
          "iopub.status.idle": "2024-01-04T05:26:38.483823Z",
          "shell.execute_reply.started": "2024-01-04T05:26:37.628846Z",
          "shell.execute_reply": "2024-01-04T05:26:38.482686Z"
        },
        "trusted": true,
        "id": "0VbrnhRIqAyR"
      },
      "execution_count": null,
      "outputs": []
    },
    {
      "cell_type": "code",
      "source": [
        "# take all the normal data and some of the abnormal data so the total data points are 1,000,000\n",
        "df_normal = df[df['Label'] == 'normal.']\n",
        "df_abnormal = df[df['Label'] != 'normal.']\n",
        "for i in range(0,10):\n",
        "    df_abnormal = df_abnormal.iloc[np.random.permutation(len(df_abnormal))]\n",
        "    df_normal = df_normal.iloc[np.random.permutation(len(df_normal))]\n",
        "df_abnormal = df_abnormal.sample(1000000 - df_normal.shape[0])"
      ],
      "metadata": {
        "execution": {
          "iopub.status.busy": "2024-01-04T05:26:38.485333Z",
          "iopub.execute_input": "2024-01-04T05:26:38.486645Z",
          "iopub.status.idle": "2024-01-04T05:27:40.533188Z",
          "shell.execute_reply.started": "2024-01-04T05:26:38.48659Z",
          "shell.execute_reply": "2024-01-04T05:27:40.531498Z"
        },
        "trusted": true,
        "id": "uz8XdRu5qAyS"
      },
      "execution_count": null,
      "outputs": []
    },
    {
      "cell_type": "code",
      "source": [
        "df_normal.shape, df_abnormal.shape"
      ],
      "metadata": {
        "execution": {
          "iopub.status.busy": "2024-01-04T05:27:40.53507Z",
          "iopub.execute_input": "2024-01-04T05:27:40.535622Z",
          "iopub.status.idle": "2024-01-04T05:27:40.543784Z",
          "shell.execute_reply.started": "2024-01-04T05:27:40.535583Z",
          "shell.execute_reply": "2024-01-04T05:27:40.542443Z"
        },
        "trusted": true,
        "id": "ISrs5QIQqAyS"
      },
      "execution_count": null,
      "outputs": []
    },
    {
      "cell_type": "code",
      "source": [
        "df_normal"
      ],
      "metadata": {
        "execution": {
          "iopub.status.busy": "2024-01-04T05:30:02.2357Z",
          "iopub.execute_input": "2024-01-04T05:30:02.236692Z",
          "iopub.status.idle": "2024-01-04T05:30:02.575269Z",
          "shell.execute_reply.started": "2024-01-04T05:30:02.236642Z",
          "shell.execute_reply": "2024-01-04T05:30:02.573809Z"
        },
        "trusted": true,
        "id": "b9t_UC0XqAyS"
      },
      "execution_count": null,
      "outputs": []
    },
    {
      "cell_type": "code",
      "source": [
        "df_abnormal"
      ],
      "metadata": {
        "execution": {
          "iopub.status.busy": "2024-01-04T05:29:53.229873Z",
          "iopub.execute_input": "2024-01-04T05:29:53.230384Z",
          "iopub.status.idle": "2024-01-04T05:29:53.280818Z",
          "shell.execute_reply.started": "2024-01-04T05:29:53.230351Z",
          "shell.execute_reply": "2024-01-04T05:29:53.279578Z"
        },
        "trusted": true,
        "id": "H9mXsvCHqAyS"
      },
      "execution_count": null,
      "outputs": []
    },
    {
      "cell_type": "code",
      "source": [
        "# combine the normal and abnormal data\n",
        "df = pd.concat([df_normal, df_abnormal])\n",
        "df"
      ],
      "metadata": {
        "execution": {
          "iopub.status.busy": "2024-01-04T05:49:51.852039Z",
          "iopub.execute_input": "2024-01-04T05:49:51.852592Z",
          "iopub.status.idle": "2024-01-04T05:49:52.741982Z",
          "shell.execute_reply.started": "2024-01-04T05:49:51.852551Z",
          "shell.execute_reply": "2024-01-04T05:49:52.740665Z"
        },
        "trusted": true,
        "id": "arRacX1AqAyT"
      },
      "execution_count": null,
      "outputs": []
    },
    {
      "cell_type": "code",
      "source": [
        "# compare the percentage of each label\n",
        "# (df['Label'].value_counts() / df.shape[0]) * 100\n",
        "(df['Label'].value_counts())"
      ],
      "metadata": {
        "execution": {
          "iopub.status.busy": "2024-01-04T05:49:55.694922Z",
          "iopub.execute_input": "2024-01-04T05:49:55.695357Z",
          "iopub.status.idle": "2024-01-04T05:49:55.878106Z",
          "shell.execute_reply.started": "2024-01-04T05:49:55.695328Z",
          "shell.execute_reply": "2024-01-04T05:49:55.876857Z"
        },
        "trusted": true,
        "id": "dU0ngVwNqAyT"
      },
      "execution_count": null,
      "outputs": []
    },
    {
      "cell_type": "code",
      "source": [
        "for f in range(0,10):\n",
        "    df = df.iloc[np.random.permutation(len(df))]"
      ],
      "metadata": {
        "execution": {
          "iopub.status.busy": "2024-01-04T05:49:59.635436Z",
          "iopub.execute_input": "2024-01-04T05:49:59.636829Z",
          "iopub.status.idle": "2024-01-04T05:50:09.590677Z",
          "shell.execute_reply.started": "2024-01-04T05:49:59.636785Z",
          "shell.execute_reply": "2024-01-04T05:50:09.589531Z"
        },
        "trusted": true,
        "id": "6x1tZxcwqAyT"
      },
      "execution_count": null,
      "outputs": []
    },
    {
      "cell_type": "code",
      "source": [
        "# split X and y data\n",
        "x = df.drop('Label', axis = 1)\n",
        "y = df['Label']"
      ],
      "metadata": {
        "execution": {
          "iopub.status.busy": "2024-01-04T05:50:09.592739Z",
          "iopub.execute_input": "2024-01-04T05:50:09.593091Z",
          "iopub.status.idle": "2024-01-04T05:50:09.744026Z",
          "shell.execute_reply.started": "2024-01-04T05:50:09.593062Z",
          "shell.execute_reply": "2024-01-04T05:50:09.742842Z"
        },
        "trusted": true,
        "id": "RlXWCHqVqAyT"
      },
      "execution_count": null,
      "outputs": []
    },
    {
      "cell_type": "code",
      "source": [
        "from sklearn.compose import ColumnTransformer\n",
        "from sklearn.ensemble import IsolationForest\n",
        "from sklearn.neighbors import LocalOutlierFactor\n",
        "from sklearn.pipeline import make_pipeline\n",
        "from sklearn.preprocessing import (\n",
        "    OneHotEncoder,\n",
        "    OrdinalEncoder,\n",
        "    RobustScaler,\n",
        "    StandardScaler,\n",
        ")\n",
        "categorical_columns = [\"protocol_type\", \"service\", \"flag\"]\n",
        "\n",
        "ordinal_encoder = OrdinalEncoder(\n",
        "    handle_unknown=\"use_encoded_value\", unknown_value=-1\n",
        ")\n",
        "preprocessor = ColumnTransformer(\n",
        "    transformers=[\n",
        "        (\"categorical\", ordinal_encoder, categorical_columns),\n",
        "    ],\n",
        "    remainder=\"passthrough\",\n",
        ")\n",
        "x = preprocessor.fit_transform(x)\n",
        "y = np.where(y == 'normal.',1,0) # anomaly = 0, normal = 1"
      ],
      "metadata": {
        "execution": {
          "iopub.status.busy": "2024-01-04T05:50:20.433231Z",
          "iopub.execute_input": "2024-01-04T05:50:20.433673Z",
          "iopub.status.idle": "2024-01-04T05:50:22.17494Z",
          "shell.execute_reply.started": "2024-01-04T05:50:20.433643Z",
          "shell.execute_reply": "2024-01-04T05:50:22.173607Z"
        },
        "trusted": true,
        "id": "nrWesIaTqAyT"
      },
      "execution_count": null,
      "outputs": []
    },
    {
      "cell_type": "code",
      "source": [
        "x_train, x_test, y_train, y_test = train_test_split(x ,y , test_size = 0.2, random_state = 42)\n",
        "x_train = df_normal.drop('Label', axis = 1) # remake x_train with only normal data\n",
        "x_train = preprocessor.fit_transform(x_train)"
      ],
      "metadata": {
        "execution": {
          "iopub.status.busy": "2024-01-04T05:50:24.169757Z",
          "iopub.execute_input": "2024-01-04T05:50:24.170654Z",
          "iopub.status.idle": "2024-01-04T05:50:26.037535Z",
          "shell.execute_reply.started": "2024-01-04T05:50:24.170614Z",
          "shell.execute_reply": "2024-01-04T05:50:26.036028Z"
        },
        "trusted": true,
        "id": "qRNvqzlnqAyU"
      },
      "execution_count": null,
      "outputs": []
    },
    {
      "cell_type": "code",
      "source": [
        "iforest = IsolationForest(n_estimators=100, bootstrap=True, random_state=42)\n",
        "iforest.fit(x_train)\n",
        "y_pred1 = iforest.predict(x_test)\n",
        "y_pred1 = np.where(y_pred1 == 1, 1, 0) # normal = 1, anomaly = 0\n",
        "y_pred2 = iforest.decision_function(x_test) # negative : outliers, positive : inliers"
      ],
      "metadata": {
        "execution": {
          "iopub.status.busy": "2024-01-04T05:50:29.204059Z",
          "iopub.execute_input": "2024-01-04T05:50:29.204561Z",
          "iopub.status.idle": "2024-01-04T05:50:44.796879Z",
          "shell.execute_reply.started": "2024-01-04T05:50:29.204521Z",
          "shell.execute_reply": "2024-01-04T05:50:44.795553Z"
        },
        "trusted": true,
        "id": "ixQ4QixTqAyU"
      },
      "execution_count": null,
      "outputs": []
    },
    {
      "cell_type": "code",
      "source": [
        "y_pred1"
      ],
      "metadata": {
        "execution": {
          "iopub.status.busy": "2024-01-04T05:50:48.629542Z",
          "iopub.execute_input": "2024-01-04T05:50:48.631009Z",
          "iopub.status.idle": "2024-01-04T05:50:48.639094Z",
          "shell.execute_reply.started": "2024-01-04T05:50:48.630933Z",
          "shell.execute_reply": "2024-01-04T05:50:48.637783Z"
        },
        "trusted": true,
        "id": "JMhsRmSEqAyU"
      },
      "execution_count": null,
      "outputs": []
    },
    {
      "cell_type": "code",
      "source": [
        "y_pred2"
      ],
      "metadata": {
        "execution": {
          "iopub.status.busy": "2024-01-04T05:53:19.88446Z",
          "iopub.execute_input": "2024-01-04T05:53:19.885557Z",
          "iopub.status.idle": "2024-01-04T05:53:19.896533Z",
          "shell.execute_reply.started": "2024-01-04T05:53:19.885499Z",
          "shell.execute_reply": "2024-01-04T05:53:19.895392Z"
        },
        "trusted": true,
        "id": "I1JRaAunqAyU"
      },
      "execution_count": null,
      "outputs": []
    },
    {
      "cell_type": "code",
      "source": [
        "y_test"
      ],
      "metadata": {
        "execution": {
          "iopub.status.busy": "2024-01-04T05:50:52.607533Z",
          "iopub.execute_input": "2024-01-04T05:50:52.609036Z",
          "iopub.status.idle": "2024-01-04T05:50:52.618667Z",
          "shell.execute_reply.started": "2024-01-04T05:50:52.608975Z",
          "shell.execute_reply": "2024-01-04T05:50:52.617306Z"
        },
        "trusted": true,
        "id": "hvvUkbGqqAyU"
      },
      "execution_count": null,
      "outputs": []
    },
    {
      "cell_type": "code",
      "source": [
        "from sklearn.metrics import classification_report\n",
        "print(\"Printing the classification report with fixed parameters...\")\n",
        "print(classification_report(y_test, y_pred1))"
      ],
      "metadata": {
        "execution": {
          "iopub.status.busy": "2024-01-04T05:50:54.707903Z",
          "iopub.execute_input": "2024-01-04T05:50:54.709039Z",
          "iopub.status.idle": "2024-01-04T05:50:55.038277Z",
          "shell.execute_reply.started": "2024-01-04T05:50:54.708991Z",
          "shell.execute_reply": "2024-01-04T05:50:55.036967Z"
        },
        "trusted": true,
        "id": "b3u5go9nqAyU"
      },
      "execution_count": null,
      "outputs": []
    },
    {
      "cell_type": "code",
      "source": [
        "import math\n",
        "import matplotlib.pyplot as plt\n",
        "from sklearn.metrics import RocCurveDisplay, roc_auc_score, roc_curve, auc\n",
        "\n",
        "fpr, tpr, thresholds = roc_curve(y_test, y_pred2)\n",
        "roc_auc = auc(fpr, tpr)\n",
        "curve = RocCurveDisplay(fpr=fpr, tpr=tpr,roc_auc=roc_auc)\n",
        "curve.plot()\n",
        "plt.title(\"IForest for OCC on KDD cup 1999\")\n",
        "plt.show()"
      ],
      "metadata": {
        "execution": {
          "iopub.status.busy": "2024-01-04T05:50:57.300057Z",
          "iopub.execute_input": "2024-01-04T05:50:57.300931Z",
          "iopub.status.idle": "2024-01-04T05:50:57.605114Z",
          "shell.execute_reply.started": "2024-01-04T05:50:57.300892Z",
          "shell.execute_reply": "2024-01-04T05:50:57.603666Z"
        },
        "trusted": true,
        "id": "7S4IFP3RqAyV"
      },
      "execution_count": null,
      "outputs": []
    },
    {
      "cell_type": "code",
      "source": [
        "from sklearn.metrics import roc_auc_score\n",
        "auc1 = roc_auc_score(y_test, y_pred1)\n",
        "auc2 = roc_auc_score(y_test, y_pred2)\n",
        "print(\"AUC score (discrete prediction): \", auc1 * 100)\n",
        "print(\"AUC score (continuous prediction):\", auc2 * 100)"
      ],
      "metadata": {
        "execution": {
          "iopub.status.busy": "2024-01-04T05:51:00.876781Z",
          "iopub.execute_input": "2024-01-04T05:51:00.877227Z",
          "iopub.status.idle": "2024-01-04T05:51:00.98622Z",
          "shell.execute_reply.started": "2024-01-04T05:51:00.877196Z",
          "shell.execute_reply": "2024-01-04T05:51:00.984734Z"
        },
        "trusted": true,
        "id": "2hhPHfgrqAyV"
      },
      "execution_count": null,
      "outputs": []
    },
    {
      "cell_type": "code",
      "source": [
        "plt.figure(figsize = (15, 10))\n",
        "\n",
        "plt.hist(y_pred2, bins=100)\n",
        "\n",
        "plt.xlabel('Avr anomaly score', fontsize=14)\n",
        "\n",
        "plt.ylabel('Number of Data Points', fontsize=14)\n",
        "\n",
        "plt.show()"
      ],
      "metadata": {
        "execution": {
          "iopub.status.busy": "2024-01-04T05:51:03.266957Z",
          "iopub.execute_input": "2024-01-04T05:51:03.267402Z",
          "iopub.status.idle": "2024-01-04T05:51:03.766718Z",
          "shell.execute_reply.started": "2024-01-04T05:51:03.267369Z",
          "shell.execute_reply": "2024-01-04T05:51:03.765252Z"
        },
        "trusted": true,
        "id": "PZ5Lpo5HqAyV"
      },
      "execution_count": null,
      "outputs": []
    }
  ]
}